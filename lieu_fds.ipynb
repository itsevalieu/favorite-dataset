{
 "cells": [
  {
   "cell_type": "code",
   "execution_count": null,
   "metadata": {
    "collapsed": false
   },
   "outputs": [
    {
     "name": "stdout",
     "output_type": "stream",
     "text": [
      "Printing from:  lieu_dataset.csv \n",
      "\n",
      "Row  0 FYWN1wneV18bWNgQjJ2GNg,\"\"\"Dental by Design\"\"\",,\"\"\"4855 E Warner Rd, Ste B9\"\"\",Ahwatukee,AZ,85044,33.3306902,-111.9785992,4.0,22,1,Dentists;General Dentistry;Health & Medical;Oral Surgeons;Cosmetic Dentists;Orthodontists\n",
      "\n"
     ]
    }
   ],
   "source": [
    "def print_nextline(filename):\n",
    "    print(\"Printing from: \", filename, \"\\n\")\n",
    "    with open(filename, 'r') as file:\n",
    "        next(file)\n",
    "        for i, line in enumerate(file):\n",
    "            print(line)\n",
    "            key = input(\"Press enter to print next line: \\n\")\n",
    "            \n",
    "print_nextline('lieu_dataset.csv')"
   ]
  },
  {
   "cell_type": "code",
   "execution_count": null,
   "metadata": {
    "collapsed": true
   },
   "outputs": [],
   "source": []
  }
 ],
 "metadata": {
  "kernelspec": {
   "display_name": "Python 3",
   "language": "python",
   "name": "python3"
  },
  "language_info": {
   "codemirror_mode": {
    "name": "ipython",
    "version": 3
   },
   "file_extension": ".py",
   "mimetype": "text/x-python",
   "name": "python",
   "nbconvert_exporter": "python",
   "pygments_lexer": "ipython3",
   "version": "3.6.0"
  }
 },
 "nbformat": 4,
 "nbformat_minor": 2
}
