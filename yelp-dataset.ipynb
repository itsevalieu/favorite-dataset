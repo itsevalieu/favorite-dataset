{
 "cells": [
  {
   "cell_type": "code",
   "execution_count": null,
   "metadata": {
    "collapsed": false
   },
   "outputs": [
    {
     "name": "stdout",
     "output_type": "stream",
     "text": [
      "['business_id' 'name' 'neighborhood' 'address' 'city' 'state' 'postal_code'\n",
      " 'latitude' 'longitude' 'stars' 'review_count' 'is_open' 'categories']\n",
      "business_id,name,neighborhood,address,city,state,postal_code,latitude,longitude,stars,review_count,is_open,categories\n",
      "\n",
      "Press enter to print next line: \n",
      "\n",
      "FYWN1wneV18bWNgQjJ2GNg,\"\"\"Dental by Design\"\"\",,\"\"\"4855 E Warner Rd, Ste B9\"\"\",Ahwatukee,AZ,85044,33.3306902,-111.9785992,4.0,22,1,Dentists;General Dentistry;Health & Medical;Oral Surgeons;Cosmetic Dentists;Orthodontists\n",
      "\n",
      "Press enter to print next line: \n",
      "\n",
      "He-G7vWjzVUysIKrfNbPUQ,\"\"\"Stephen Szabo Salon\"\"\",,\"\"\"3101 Washington Rd\"\"\",McMurray,PA,15317,40.2916853,-80.1048999,3.0,11,1,Hair Stylists;Hair Salons;Men's Hair Salons;Blow Dry/Out Services;Hair Extensions;Beauty & Spas\n",
      "\n",
      "Press enter to print next line: \n",
      "\n",
      "KQPW8lFf1y5BT2MxiSZ3QA,\"\"\"Western Motor Vehicle\"\"\",,\"\"\"6025 N 27th Ave, Ste 1\"\"\",Phoenix,AZ,85017,33.5249025,-112.1153098,1.5,18,1,Departments of Motor Vehicles;Public Services & Government\n",
      "\n",
      "Press enter to print next line: \n",
      "\n",
      "8DShNS-LuFqpEWIp0HxijA,\"\"\"Sports Authority\"\"\",,\"\"\"5000 Arizona Mills Cr, Ste 435\"\"\",Tempe,AZ,85282,33.3831468,-111.9647254,3.0,9,0,Sporting Goods;Shopping\n",
      "\n",
      "Press enter to print next line: \n",
      "\n",
      "PfOCPjBrlQAnz__NXj9h_w,\"\"\"Brick House Tavern + Tap\"\"\",,\"\"\"581 Howe Ave\"\"\",Cuyahoga Falls,OH,44221,41.1195346,-81.4756898,3.5,116,1,American (New);Nightlife;Bars;Sandwiches;American (Traditional);Burgers;Restaurants\n",
      "\n",
      "Press enter to print next line: \n",
      "\n",
      "o9eMRCWt5PkpLDE0gOPtcQ,\"\"\"Messina\"\"\",,\"\"\"Richterstr. 11\"\"\",Stuttgart,BW,70567,48.7272,9.14795,4.0,5,1,Italian;Restaurants\n",
      "\n"
     ]
    }
   ],
   "source": [
    "import pandas as pd\n",
    "import csv\n",
    "import click\n",
    "\n",
    "dataset = pd.read_csv('yelp_business.csv')\n",
    "print(dataset.columns.values)\n",
    "# dataset.head(100)\n",
    "# num = len(dataset)\n",
    "# print(num)\n",
    "# print(dataset[5:6])\n",
    "\n",
    "def create_subset(filename, nrecords):\n",
    "    with open(filename, 'r') as file:\n",
    "        file = list(csv.reader(file))\n",
    "        with open('data_subset.csv', 'w') as subset_file:\n",
    "            writer = csv.writer(subset_file, delimiter=',')\n",
    "            for line in range(0, nrecords):\n",
    "                writer.writerow(file[line])\n",
    "#                 print(file[line])\n",
    "\n",
    "# create_subset('yelp_business.csv', 100)\n",
    "\n",
    "def print_nextline(filename):\n",
    "    with open('lieu_dataset.csv', 'r') as newfile:\n",
    "        for i, line in enumerate(newfile):\n",
    "            print(line)\n",
    "            key = input(\"Press enter to print next line: \\n\")\n",
    "\n",
    "    \n",
    "# with open('yelp_business.csv', 'r') as file:\n",
    "#     print(type(file))\n",
    "#     file=csv.DictReader(file)\n",
    "#     file = list(file)\n",
    "#     for line in range(0, 100):\n",
    "#         print(file[line])\n",
    "#         print(line)\n",
    "        \n",
    "# rows = list(myreader)\n",
    "# totalrows = len(rows)\n",
    "# for i, row in enumerate(rows):\n",
    "#     print(\"Row %d/%d\" % (i+1, totalrows))\n",
    "#     print(file.readline(100))\n",
    "    \n",
    "    #     file= csv.DictReader(file)\n",
    "#     with open('subset_yelp_business.csv', 'w'):\n",
    "#         for line in file:\n",
    "            \n",
    "#         print(line['business_id'])\n",
    "#     print(reader[0:1])\n",
    "#     count = 0\n",
    "#     while count <= 2:\n",
    "#         for line in reader:\n",
    "#             print(line)+\n",
    "#             count = count + 1\n",
    "#             print(count)        \n",
    "\n",
    "# print(dataset[1])\n",
    "# x = 100\n",
    "# while x <= 100:\n",
    "#     print(dataset[x])\n",
    "#     x+=1"
   ]
  },
  {
   "cell_type": "code",
   "execution_count": null,
   "metadata": {
    "collapsed": true
   },
   "outputs": [],
   "source": []
  }
 ],
 "metadata": {
  "kernelspec": {
   "display_name": "Python 3",
   "language": "python",
   "name": "python3"
  },
  "language_info": {
   "codemirror_mode": {
    "name": "ipython",
    "version": 3
   },
   "file_extension": ".py",
   "mimetype": "text/x-python",
   "name": "python",
   "nbconvert_exporter": "python",
   "pygments_lexer": "ipython3",
   "version": "3.6.0"
  }
 },
 "nbformat": 4,
 "nbformat_minor": 2
}
